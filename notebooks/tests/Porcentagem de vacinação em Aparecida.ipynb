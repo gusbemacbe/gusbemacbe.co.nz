{
 "cells": [
  {
   "cell_type": "code",
   "execution_count": 5,
   "metadata": {},
   "outputs": [
    {
     "name": "stdout",
     "output_type": "stream",
     "text": [
      "21.22% de vacinados com uma dose\n",
      "10.71% de vacinados com duas doses\n"
     ]
    }
   ],
   "source": [
    "p = 36185\n",
    "d1 = 7677\n",
    "d2 = 3874\n",
    "\n",
    "pd1 = (d1 * 100) / p\n",
    "pd2 = (d2 * 100) / p\n",
    "\n",
    "print(f\"{round(pd1, 2)}% de vacinados com uma dose\")\n",
    "print(f\"{round(pd2, 2)}% de vacinados com duas doses\")"
   ]
  }
 ],
 "metadata": {
  "interpreter": {
   "hash": "0b2b1d2583eb1556da8488622a4f639c4fd480c4904c2df15a4bb1930bdf233e"
  },
  "kernelspec": {
   "display_name": "Python 3.9.4 64-bit ('.env': venv)",
   "name": "python3"
  },
  "language_info": {
   "codemirror_mode": {
    "name": "ipython",
    "version": 3
   },
   "file_extension": ".py",
   "mimetype": "text/x-python",
   "name": "python",
   "nbconvert_exporter": "python",
   "pygments_lexer": "ipython3",
   "version": "3.9.5"
  },
  "orig_nbformat": 2
 },
 "nbformat": 4,
 "nbformat_minor": 2
}