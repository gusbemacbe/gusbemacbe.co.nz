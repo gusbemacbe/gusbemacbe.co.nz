{
 "cells": [
  {
   "cell_type": "markdown",
   "metadata": {},
   "source": [
    "<details>\n",
    "  <summary>English</summary>\n",
    "\n",
    "  <h2>Download the latest CSV files from SEADE repository</h2>\n",
    "</details>\n",
    "\n",
    "<br>\n",
    "\n",
    "<details>\n",
    "  <summary>Português</summary>\n",
    "  <h2>Transfere as últimas atualizações dos ficheiros do CSV do repositório da SEADE</h2>\n",
    "</details>"
   ]
  },
  {
   "cell_type": "code",
   "execution_count": null,
   "metadata": {},
   "outputs": [],
   "source": [
    "import requests, zipfile, io\n",
    "\n",
    "urls = [\n",
    "  'https://raw.githubusercontent.com/seade-R/dados-covid-sp/master/data/casos_obitos_doencas_preexistentes.csv.zip', \n",
    "  'https://raw.githubusercontent.com/seade-R/dados-covid-sp/master/data/casos_obitos_raca_cor.csv.zip'\n",
    "]\n",
    "\n",
    "for url in urls:\n",
    "  c = requests.get(url)\n",
    "  z = zipfile.ZipFile(io.BytesIO(c.content))\n",
    "  z.extractall(\"../../data/seade/\")"
   ]
  },
  {
   "cell_type": "markdown",
   "metadata": {},
   "source": [
    "<details>\n",
    "  <summary>English</summary>\n",
    "\n",
    "  <h2>Copy all lines containing the city's name with the first line to a new CSV file and replace `;` with `,`</h2>\n",
    "</details>\n",
    "\n",
    "<br>\n",
    "\n",
    "<details>\n",
    "  <summary>Português</summary>\n",
    "  <h2>Copiar todas as linhas contendo o nome da cidade com a primeira linha para um novo ficheiro CSV e substituir `;` com `,`</h2>\n",
    "</details>"
   ]
  },
  {
   "cell_type": "code",
   "execution_count": null,
   "metadata": {},
   "outputs": [],
   "source": [
    "import subprocess as sp\n",
    "\n",
    "gustavo = \"../../data/gustavo/confirmados\"\n",
    "seade = \"../../data/seade\"\n",
    "\n",
    "cities = {\n",
    "    \"Aparecida\": \"aparecida\",\n",
    "    \"Cunha\": \"cunha\",\n",
    "    \"Guaratinguetá\": \"guaratinguetá\",\n",
    "    \"Lagoinha\": \"lagoinha\",\n",
    "    \"Lorena\": \"lorena\",\n",
    "    \"Potim\": \"potim\",\n",
    "    \"Roseira\": \"roseira\",\n",
    "}\n",
    "\n",
    "for city in cities:\n",
    "    cmd = \"awk '/nome|\" + city + \";/' \" + seade +\"/casos_obitos_doencas_preexistentes.csv > \" + gustavo + \"/\" + cities[city] + \"-confirmados-por-faixa-etária.csv && sed -i 's/;/,/g' \" + gustavo + \"/\" + cities[city] + \"-confirmados-por-faixa-etária.csv\"\n",
    "    print(cmd)\n",
    "\n",
    "    c = sp.Popen(cmd, stdin = sp.PIPE, stdout = sp.PIPE, stderr = sp.PIPE, shell = True)\n",
    "\n",
    "    for l in c.stdout:\n",
    "        print (l.decode())"
   ]
  }
 ],
 "metadata": {
  "kernelspec": {
   "display_name": "Python 3.9.4 64-bit ('.env': venv)",
   "name": "python394jvsc74a57bd00b2b1d2583eb1556da8488622a4f639c4fd480c4904c2df15a4bb1930bdf233e"
  },
  "language_info": {
   "name": "python",
   "version": ""
  },
  "orig_nbformat": 2
 },
 "nbformat": 4,
 "nbformat_minor": 2
}